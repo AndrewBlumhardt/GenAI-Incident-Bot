{
 "cells": [
  {
   "cell_type": "markdown",
   "metadata": {},
   "source": [
    "# Simple Incident Response Bot using CHatGPT"
   ]
  },
  {
   "cell_type": "markdown",
   "metadata": {},
   "source": [
    "## Cyber Incident Analysis Tool\n",
    "\n",
    "This Python tool analyzes cybersecurity incidents using OpenAI’s GPT model. It processes a user-provided description, assesses severity, recommends recovery steps, and extracts security-related entities like IPs, domains, and emails.The tool queries OpenAI’s API for an assessment and identifies potential risks. If an IP is found, it can optionally retrieve geolocation and ISP details using the IPInfo API.To use, install the required Python libraries, set the OpenAI API key, and run the script. Input a security incident description to receive a severity rating, mitigation steps, and entity details. An IPInfo API key can optionally enrich IP data.Requires an OpenAI API key, with optional IPInfo API integration."
   ]
  },
  {
   "cell_type": "markdown",
   "metadata": {},
   "source": [
    "### Citation:\n",
    "\n",
    "This assignment was completed with assistance from ChatGPT 4.0, developed by OpenAI, for suggestions and validation purposes. The tool was utilized to refine ideas, validate methods, and ensure clarity in the analysis."
   ]
  },
  {
   "cell_type": "markdown",
   "metadata": {},
   "source": [
    "### Impoerting Modules & Settting Keys"
   ]
  },
  {
   "cell_type": "code",
   "execution_count": null,
   "metadata": {},
   "outputs": [],
   "source": [
    "# Requires pip install openai\n",
    "# !pip install ipywidgets\n",
    "\n",
    "import openai\n",
    "import ipywidgets as widgets\n",
    "from IPython.display import display, Markdown, clear_output\n",
    "import re\n",
    "import requests\n",
    "import json\n",
    "\n",
    "# Set your OpenAI API Key from https://platform.openai.com/signup/\n",
    "client = openai.OpenAI(api_key=\"ENTER YOUR KEY\")\n",
    "\n",
    "# Optional: Set your IPInfo API key for entity enrichment from https://ipinfo.io/\n",
    "IPINFO_API_KEY = \"ENTER YOUR KEY\"\n",
    "\n",
    "# In productin we would secure this API key in a secure vault like AWS Secrets Manager or Azure Key Vault"
   ]
  },
  {
   "cell_type": "code",
   "execution_count": 4,
   "metadata": {},
   "outputs": [
    {
     "data": {
      "text/markdown": [
       "## 🛡️ GenAI Security Response Bot"
      ],
      "text/plain": [
       "<IPython.core.display.Markdown object>"
      ]
     },
     "metadata": {},
     "output_type": "display_data"
    },
    {
     "data": {
      "application/vnd.jupyter.widget-view+json": {
       "model_id": "646c709e35874fa8941a401115f764ff",
       "version_major": 2,
       "version_minor": 0
      },
      "text/plain": [
       "Textarea(value='', layout=Layout(height='150px', width='100%'), placeholder='Describe the security incident he…"
      ]
     },
     "metadata": {},
     "output_type": "display_data"
    },
    {
     "data": {
      "application/vnd.jupyter.widget-view+json": {
       "model_id": "c64a9d1308b94f71818198fbd501e728",
       "version_major": 2,
       "version_minor": 0
      },
      "text/plain": [
       "Button(button_style='primary', description='Analyze Incident', style=ButtonStyle())"
      ]
     },
     "metadata": {},
     "output_type": "display_data"
    },
    {
     "data": {
      "application/vnd.jupyter.widget-view+json": {
       "model_id": "fa6345ee15154935875a2832533ba1a4",
       "version_major": 2,
       "version_minor": 0
      },
      "text/plain": [
       "Button(button_style='info', description='New Prompt', style=ButtonStyle())"
      ]
     },
     "metadata": {},
     "output_type": "display_data"
    },
    {
     "data": {
      "application/vnd.jupyter.widget-view+json": {
       "model_id": "09e484c439224a3f80136efeb47a0fea",
       "version_major": 2,
       "version_minor": 0
      },
      "text/plain": [
       "Button(button_style='danger', description='Clear Results', style=ButtonStyle())"
      ]
     },
     "metadata": {},
     "output_type": "display_data"
    },
    {
     "data": {
      "application/vnd.jupyter.widget-view+json": {
       "model_id": "266b503002074f2383431c6efafafdaa",
       "version_major": 2,
       "version_minor": 0
      },
      "text/plain": [
       "Output()"
      ]
     },
     "metadata": {},
     "output_type": "display_data"
    }
   ],
   "source": [
    "\n",
    "# Create interactive input and buttons\n",
    "incident_text = widgets.Textarea(\n",
    "    placeholder=\"Describe the security incident here...\",\n",
    "    layout=widgets.Layout(width=\"100%\", height=\"150px\")\n",
    ")\n",
    "\n",
    "# Need more buttons for the user to interact with the bot\n",
    "submit_button = widgets.Button(description=\"Analyze Incident\", button_style='primary')\n",
    "clear_button = widgets.Button(description=\"Clear Results\", button_style='danger')\n",
    "new_prompt_button = widgets.Button(description=\"New Prompt\", button_style='info')\n",
    "\n",
    "# Output area for displaying results\n",
    "output = widgets.Output()\n",
    "\n",
    "# Function to query OpenAI API for security analysis using the latest API structure.\n",
    "# Note the system prompt below, this is a ctitical part of groudning the AI model and making adjustments later.\n",
    "def query_openai(prompt):\n",
    "    try:\n",
    "        response = client.chat.completions.create( \n",
    "            model=\"gpt-4-turbo\",  # In later rounds, testing with less expensive models would be a good idea.\n",
    "            messages=[\n",
    "                {\"role\": \"system\", \"content\": \"You are a cybersecurity expert providing severity assessments and recommendations for security incidents.\"},\n",
    "                {\"role\": \"user\", \"content\": prompt}\n",
    "            ],\n",
    "            max_tokens=500\n",
    "        )\n",
    "        return response.choices[0].message.content\n",
    "    except Exception as e:\n",
    "        return f\"⚠️ OpenAI API Error: {str(e)}\"\n",
    "\n",
    "#Function to use regex to extract entities from the incident description, only using IP enrichment in this example.\n",
    "def extract_entities(text):\n",
    "    ip_pattern = r\"\\b(?:[0-9]{1,3}\\.){3}[0-9]{1,3}\\b\"\n",
    "    domain_pattern = r\"\\b(?:[a-zA-Z0-9-]+\\.)+[a-zA-Z]{2,}\\b\"\n",
    "    email_pattern = r\"\\b[A-Za-z0-9._%+-]+@[A-Za-z0-9.-]+\\.[A-Z|a-z]{2,7}\\b\"\n",
    "    hostname_pattern = r\"\\b(?:[a-zA-Z0-9-]+\\.)+[a-zA-Z]{2,}\\b\"\n",
    "\n",
    "    return {\n",
    "        \"IP Addresses\": list(set(re.findall(ip_pattern, text))),\n",
    "        \"Domains\": list(set(re.findall(domain_pattern, text))),\n",
    "        \"Emails\": list(set(re.findall(email_pattern, text))),\n",
    "        \"Hostnames\": list(set(re.findall(hostname_pattern, text)))\n",
    "    }\n",
    "\n",
    "# Retrieves IP details from the IPInfo API.\n",
    "def get_ip_info(ip):\n",
    "    if not IPINFO_API_KEY:\n",
    "        return {\"error\": \"IPInfo API key is not configured.\"}\n",
    "    \n",
    "    try:\n",
    "        url = f\"https://ipinfo.io/{ip}/json?token={IPINFO_API_KEY}\"\n",
    "        response = requests.get(url)\n",
    "        return response.json()\n",
    "    except Exception as e:\n",
    "        return {\"error\": f\"Could not retrieve IP info: {str(e)}\"}\n",
    "\n",
    "# Function for 'Analyze Incident' button handler and formatting the output.\n",
    "def analyze_incident(b):\n",
    "    output.clear_output()\n",
    "    incident = incident_text.value.strip()\n",
    "    \n",
    "    if not incident:\n",
    "        with output:\n",
    "            display(Markdown(\"⚠️ **Please enter a security incident description.**\"))\n",
    "        return\n",
    "    \n",
    "    # Get OpenAI analysis\n",
    "    analysis = query_openai(incident)\n",
    "    \n",
    "    # Extract security-related entities\n",
    "    entities = extract_entities(incident)\n",
    "    \n",
    "    with output:\n",
    "        display(Markdown(\"### 🛡️ **Security Analysis**\"))\n",
    "        display(Markdown(f\"**Incident Description:**\\n{incident}\"))\n",
    "        display(Markdown(f\"**Assessment & Recommendations:**\\n{analysis}\"))\n",
    "        \n",
    "        display(Markdown(\"### 🔍 **Extracted Entities**\"))\n",
    "        for key, values in entities.items():\n",
    "            if values:\n",
    "                display(Markdown(f\"**{key}:** {', '.join(values)}\"))\n",
    "        \n",
    "        # If IP enrichment is enabled, fetch and display IP details\n",
    "        if entities[\"IP Addresses\"] and IPINFO_API_KEY:\n",
    "            display(Markdown(\"### 🌍 **IP Address Information**\"))\n",
    "            for ip in entities[\"IP Addresses\"]:\n",
    "                ip_info = get_ip_info(ip)\n",
    "                display(Markdown(f\"**IP:** {ip}\"))\n",
    "                display(Markdown(f\"```json\\n{json.dumps(ip_info, indent=4)}\\n```\"))\n",
    "\n",
    "# Clears output and resets input.\n",
    "def clear_results(b):\n",
    "    output.clear_output()\n",
    "    incident_text.value = \"\"\n",
    "\n",
    "# Clears only the input field while keeping the results visible.\n",
    "def new_prompt(b):\n",
    "    incident_text.value = \"\"\n",
    "\n",
    "# Attach button actions\n",
    "submit_button.on_click(analyze_incident)\n",
    "clear_button.on_click(clear_results)\n",
    "new_prompt_button.on_click(new_prompt)\n",
    "\n",
    "# Display the widgets\n",
    "display(Markdown(\"## 🛡️ GenAI Security Response Bot\"))\n",
    "display(incident_text, submit_button, new_prompt_button, clear_button, output)\n"
   ]
  },
  {
   "cell_type": "markdown",
   "metadata": {},
   "source": [
    "#### Sapmple prompt suggestions:\n",
    "\n",
    "#### Attempted to sign-in from anonymous IP address 149.102.254.23\n",
    "\n",
    "#### 'Cryptor' malware was detected\n",
    "\n",
    "#### Multiverze' hacktool was detected \n",
    "\n",
    "#### A potentially malicious URL click was detected, http://help--trezorhelps.webflow.io/"
   ]
  }
 ],
 "metadata": {
  "kernelspec": {
   "display_name": "Python 3",
   "language": "python",
   "name": "python3"
  },
  "language_info": {
   "codemirror_mode": {
    "name": "ipython",
    "version": 3
   },
   "file_extension": ".py",
   "mimetype": "text/x-python",
   "name": "python",
   "nbconvert_exporter": "python",
   "pygments_lexer": "ipython3",
   "version": "3.12.9"
  }
 },
 "nbformat": 4,
 "nbformat_minor": 2
}
